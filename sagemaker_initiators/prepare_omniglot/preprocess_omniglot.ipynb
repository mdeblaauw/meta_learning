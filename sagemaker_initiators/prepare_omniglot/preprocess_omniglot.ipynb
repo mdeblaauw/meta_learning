{
 "cells": [
  {
   "cell_type": "markdown",
   "metadata": {},
   "source": [
    "This notebook downloads the omniglot dataset and preprocesses it for meta learning."
   ]
  },
  {
   "cell_type": "markdown",
   "metadata": {},
   "source": [
    "# Download Omniglot"
   ]
  },
  {
   "cell_type": "code",
   "execution_count": 10,
   "metadata": {},
   "outputs": [
    {
     "name": "stdout",
     "output_type": "stream",
     "text": [
      "--2020-01-12 19:05:21--  https://github.com/brendenlake/omniglot/raw/master/python/images_background.zip\n",
      "Resolving github.com (github.com)... 140.82.118.3\n",
      "Connecting to github.com (github.com)|140.82.118.3|:443... connected.\n",
      "HTTP request sent, awaiting response... 302 Found\n",
      "Location: https://raw.githubusercontent.com/brendenlake/omniglot/master/python/images_background.zip [following]\n",
      "--2020-01-12 19:05:21--  https://raw.githubusercontent.com/brendenlake/omniglot/master/python/images_background.zip\n",
      "Resolving raw.githubusercontent.com (raw.githubusercontent.com)... 199.232.24.133\n",
      "Connecting to raw.githubusercontent.com (raw.githubusercontent.com)|199.232.24.133|:443... connected.\n",
      "HTTP request sent, awaiting response... 200 OK\n",
      "Length: 9464212 (9.0M) [application/zip]\n",
      "Saving to: ‘../../data/omniglot/images_background.zip’\n",
      "\n",
      "images_background.z 100%[===================>]   9.03M  --.-KB/s    in 0.1s    \n",
      "\n",
      "2020-01-12 19:05:22 (83.3 MB/s) - ‘../../data/omniglot/images_background.zip’ saved [9464212/9464212]\n",
      "\n",
      "--2020-01-12 19:05:22--  https://github.com/brendenlake/omniglot/raw/master/python/images_evaluation.zip\n",
      "Resolving github.com (github.com)... 140.82.118.3\n",
      "Connecting to github.com (github.com)|140.82.118.3|:443... connected.\n",
      "HTTP request sent, awaiting response... 302 Found\n",
      "Location: https://raw.githubusercontent.com/brendenlake/omniglot/master/python/images_evaluation.zip [following]\n",
      "--2020-01-12 19:05:23--  https://raw.githubusercontent.com/brendenlake/omniglot/master/python/images_evaluation.zip\n",
      "Resolving raw.githubusercontent.com (raw.githubusercontent.com)... 199.232.24.133\n",
      "Connecting to raw.githubusercontent.com (raw.githubusercontent.com)|199.232.24.133|:443... connected.\n",
      "HTTP request sent, awaiting response... 200 OK\n",
      "Length: 6462886 (6.2M) [application/zip]\n",
      "Saving to: ‘../../data/omniglot/images_evaluation.zip’\n",
      "\n",
      "images_evaluation.z 100%[===================>]   6.16M  --.-KB/s    in 0.07s   \n",
      "\n",
      "2020-01-12 19:05:24 (85.7 MB/s) - ‘../../data/omniglot/images_evaluation.zip’ saved [6462886/6462886]\n",
      "\n"
     ]
    }
   ],
   "source": [
    "!wget -P ../../data/omniglot/ https://github.com/brendenlake/omniglot/raw/master/python/images_background.zip\n",
    "!wget -P ../../data/omniglot/ https://github.com/brendenlake/omniglot/raw/master/python/images_evaluation.zip"
   ]
  },
  {
   "cell_type": "code",
   "execution_count": 1,
   "metadata": {},
   "outputs": [],
   "source": [
    "!unzip -q ../../data/omniglot/images_background.zip -d ../../data/omniglot/\n",
    "!unzip -q ../../data/omniglot/images_evaluation.zip -d ../../data/omniglot/"
   ]
  },
  {
   "cell_type": "code",
   "execution_count": 7,
   "metadata": {},
   "outputs": [],
   "source": [
    "!rm -rf ../../data/omniglot/*.zip"
   ]
  },
  {
   "cell_type": "markdown",
   "metadata": {},
   "source": [
    "# Process raw data"
   ]
  },
  {
   "cell_type": "code",
   "execution_count": 2,
   "metadata": {},
   "outputs": [],
   "source": [
    "from skimage import io\n",
    "from skimage import transform\n",
    "import zipfile\n",
    "import shutil\n",
    "import os"
   ]
  },
  {
   "cell_type": "code",
   "execution_count": 3,
   "metadata": {},
   "outputs": [],
   "source": [
    "DATA_PATH = '../../data/omniglot/'"
   ]
  },
  {
   "cell_type": "markdown",
   "metadata": {},
   "source": [
    "## Dictionary functions"
   ]
  },
  {
   "cell_type": "code",
   "execution_count": 4,
   "metadata": {},
   "outputs": [],
   "source": [
    "def mkdir(dir):\n",
    "    \"\"\"Create a directory, ignoring exceptions\n",
    "\n",
    "    # Arguments:\n",
    "        dir: Path of directory to create\n",
    "    \"\"\"\n",
    "    try:\n",
    "        os.mkdir(dir)\n",
    "    except:\n",
    "        pass\n",
    "\n",
    "\n",
    "def rmdir(dir):\n",
    "    \"\"\"Recursively remove a directory and contents, ignoring exceptions\n",
    "\n",
    "   # Arguments:\n",
    "       dir: Path of directory to recursively remove\n",
    "   \"\"\"\n",
    "    try:\n",
    "        shutil.rmtree(dir)\n",
    "    except:\n",
    "        pass"
   ]
  },
  {
   "cell_type": "markdown",
   "metadata": {},
   "source": [
    "# Augmenting and normalising functions"
   ]
  },
  {
   "cell_type": "markdown",
   "metadata": {},
   "source": [
    "Scale characters from 105x105 to 28x28, apply rotation and normalise. Need skimage v0.14.0."
   ]
  },
  {
   "cell_type": "code",
   "execution_count": 5,
   "metadata": {},
   "outputs": [],
   "source": [
    "# Parameters\n",
    "output_shape = (28, 28)\n",
    "\n",
    "def handle_characters(alphabet_folder, character_folder, rotate):\n",
    "    for root, _, character_images in os.walk(character_folder):\n",
    "        character_name = root.split('/')[-1]\n",
    "        mkdir(f'{alphabet_folder}.{rotate}/{character_name}')\n",
    "        for img_path in character_images:\n",
    "            # print(root+'/'+img_path)\n",
    "            img = io.imread(root+'/'+img_path)\n",
    "            img = transform.rotate(img, angle=rotate)\n",
    "            img = transform.resize(img, output_shape, anti_aliasing=True)\n",
    "            img = (img - img.min()) / (img.max() - img.min())\n",
    "            # print(img.min(), img.max())\n",
    "            # print(f'{alphabet_folder}.{rotate}/{character_name}/{img_path}')\n",
    "            io.imsave(f'{alphabet_folder}.{rotate}/{character_name}/{img_path}', img)\n",
    "            # return\n",
    "\n",
    "\n",
    "def handle_alphabet(folder):\n",
    "    print('{}...'.format(folder.split('/')[-1]))\n",
    "    for rotate in [0, 90, 180, 270]:\n",
    "        # Create new folders for each augmented alphabet\n",
    "        mkdir(f'{folder}.{rotate}')\n",
    "        for root, character_folders, _ in os.walk(folder):\n",
    "            for character_folder in character_folders:\n",
    "                # For each character folder in an alphabet rotate and resize all of the images and save\n",
    "                # to the new folder\n",
    "                handle_characters(folder, root + '/' + character_folder, rotate)\n",
    "                # return\n",
    "   # Delete original alphabet\n",
    "    rmdir(folder)"
   ]
  },
  {
   "cell_type": "markdown",
   "metadata": {},
   "source": [
    "# Start processing"
   ]
  },
  {
   "cell_type": "code",
   "execution_count": 6,
   "metadata": {},
   "outputs": [
    {
     "name": "stdout",
     "output_type": "stream",
     "text": [
      "Processing background set...\n",
      "Alphabet_of_the_Magi...\n"
     ]
    },
    {
     "name": "stderr",
     "output_type": "stream",
     "text": [
      "/home/ec2-user/.local/lib/python3.6/site-packages/skimage/transform/_warps.py:105: UserWarning: The default mode, 'constant', will be changed to 'reflect' in skimage 0.15.\n",
      "  warn(\"The default mode, 'constant', will be changed to 'reflect' in \"\n",
      "/home/ec2-user/.local/lib/python3.6/site-packages/skimage/util/dtype.py:130: UserWarning: Possible precision loss when converting from float64 to uint16\n",
      "  .format(dtypeobj_in, dtypeobj_out))\n"
     ]
    },
    {
     "name": "stdout",
     "output_type": "stream",
     "text": [
      "Anglo-Saxon_Futhorc...\n",
      "Arcadian...\n",
      "Armenian...\n",
      "Asomtavruli_(Georgian)...\n",
      "Balinese...\n",
      "Bengali...\n",
      "Blackfoot_(Canadian_Aboriginal_Syllabics)...\n",
      "Braille...\n",
      "Burmese_(Myanmar)...\n",
      "Cyrillic...\n",
      "Early_Aramaic...\n",
      "Futurama...\n",
      "Grantha...\n",
      "Greek...\n",
      "Gujarati...\n",
      "Hebrew...\n",
      "Inuktitut_(Canadian_Aboriginal_Syllabics)...\n",
      "Japanese_(hiragana)...\n",
      "Japanese_(katakana)...\n",
      "Korean...\n",
      "Latin...\n",
      "Malay_(Jawi_-_Arabic)...\n",
      "Mkhedruli_(Georgian)...\n",
      "N_Ko...\n",
      "Ojibwe_(Canadian_Aboriginal_Syllabics)...\n",
      "Sanskrit...\n",
      "Syriac_(Estrangelo)...\n",
      "Tagalog...\n",
      "Tifinagh...\n",
      "Processing evaluation set...\n",
      "Angelic...\n",
      "Atemayar_Qelisayer...\n",
      "Atlantean...\n",
      "Aurek-Besh...\n",
      "Avesta...\n",
      "Ge_ez...\n",
      "Glagolitic...\n",
      "Gurmukhi...\n",
      "Kannada...\n",
      "Keble...\n",
      "Malayalam...\n",
      "Manipuri...\n",
      "Mongolian...\n",
      "Old_Church_Slavonic_(Cyrillic)...\n",
      "Oriya...\n",
      "Sylheti...\n",
      "Syriac_(Serto)...\n",
      "Tengwar...\n",
      "Tibetan...\n",
      "ULOG...\n"
     ]
    }
   ],
   "source": [
    "print('Processing background set...')\n",
    "for root, alphabets, _ in os.walk(DATA_PATH + 'images_background/'):\n",
    "    for alphabet in sorted(alphabets):\n",
    "        handle_alphabet(root + alphabet)\n",
    "\n",
    "print('Processing evaluation set...')\n",
    "for root, alphabets, _ in os.walk(DATA_PATH + 'images_evaluation/'):\n",
    "    for alphabet in sorted(alphabets):\n",
    "        handle_alphabet(root + alphabet)"
   ]
  },
  {
   "cell_type": "code",
   "execution_count": 23,
   "metadata": {},
   "outputs": [
    {
     "name": "stdout",
     "output_type": "stream",
     "text": [
      "~/SageMaker/meta_learning/data/omniglot ~/SageMaker/meta_learning/sagemaker_initiators/prepare_omniglot\n",
      "~/SageMaker/meta_learning/sagemaker_initiators/prepare_omniglot\n"
     ]
    }
   ],
   "source": [
    "!pushd ~/SageMaker/meta_learning/data/omniglot && zip -q -r images_background.zip ./images_background/ && popd\n",
    "!pushd ~/SageMaker/meta_learning/data/omniglot && zip -q -r images_evaluation.zip ./images_evaluation/ && popd"
   ]
  },
  {
   "cell_type": "code",
   "execution_count": 1,
   "metadata": {},
   "outputs": [],
   "source": [
    "import sagemaker\n",
    "from sagemaker.session import Session"
   ]
  },
  {
   "cell_type": "code",
   "execution_count": 24,
   "metadata": {},
   "outputs": [],
   "source": [
    "inputs = sagemaker.Session().upload_data(path='../../data/omniglot/images_background.zip', bucket='test-meta-learning-data', key_prefix='data/omniglot')\n",
    "inputs = sagemaker.Session().upload_data(path='../../data/omniglot/images_evaluation.zip', bucket='test-meta-learning-data', key_prefix='data/omniglot')"
   ]
  },
  {
   "cell_type": "code",
   "execution_count": null,
   "metadata": {},
   "outputs": [],
   "source": []
  }
 ],
 "metadata": {
  "kernelspec": {
   "display_name": "conda_pytorch_p36",
   "language": "python",
   "name": "conda_pytorch_p36"
  },
  "language_info": {
   "codemirror_mode": {
    "name": "ipython",
    "version": 3
   },
   "file_extension": ".py",
   "mimetype": "text/x-python",
   "name": "python",
   "nbconvert_exporter": "python",
   "pygments_lexer": "ipython3",
   "version": "3.6.5"
  }
 },
 "nbformat": 4,
 "nbformat_minor": 4
}
